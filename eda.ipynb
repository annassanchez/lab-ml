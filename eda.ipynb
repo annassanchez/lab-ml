{
 "cells": [
  {
   "cell_type": "markdown",
   "metadata": {
    "toc": true
   },
   "source": [
    "<h1>Table of Contents<span class=\"tocSkip\"></span></h1>\n",
    "<div class=\"toc\"><ul class=\"toc-item\"><li><span><a href=\"#Análisis-exploratorio\" data-toc-modified-id=\"Análisis-exploratorio-1\"><span class=\"toc-item-num\">1&nbsp;&nbsp;</span>Análisis exploratorio</a></span><ul class=\"toc-item\"><li><span><a href=\"#Variable-respuesta\" data-toc-modified-id=\"Variable-respuesta-1.1\"><span class=\"toc-item-num\">1.1&nbsp;&nbsp;</span>Variable respuesta</a></span></li><li><span><a href=\"#Variables-predictoras\" data-toc-modified-id=\"Variables-predictoras-1.2\"><span class=\"toc-item-num\">1.2&nbsp;&nbsp;</span>Variables predictoras</a></span><ul class=\"toc-item\"><li><span><a href=\"#Variables-numéricas\" data-toc-modified-id=\"Variables-numéricas-1.2.1\"><span class=\"toc-item-num\">1.2.1&nbsp;&nbsp;</span>Variables numéricas</a></span></li><li><span><a href=\"#Correlación-entre-variables-numéricas\" data-toc-modified-id=\"Correlación-entre-variables-numéricas-1.2.2\"><span class=\"toc-item-num\">1.2.2&nbsp;&nbsp;</span>Correlación entre variables numéricas</a></span></li><li><span><a href=\"#Variables-categóricas\" data-toc-modified-id=\"Variables-categóricas-1.2.3\"><span class=\"toc-item-num\">1.2.3&nbsp;&nbsp;</span>Variables categóricas</a></span></li></ul></li></ul></li><li><span><a href=\"#Preprocesado\" data-toc-modified-id=\"Preprocesado-2\"><span class=\"toc-item-num\">2&nbsp;&nbsp;</span>Preprocesado</a></span></li></ul></div>"
   ]
  },
  {
   "attachments": {},
   "cell_type": "markdown",
   "metadata": {},
   "source": [
    "cvriables continuas -- regresion lineal\n",
    "\n",
    "variables categóricas -- regresión logística"
   ]
  },
  {
   "cell_type": "code",
   "execution_count": null,
   "metadata": {},
   "outputs": [],
   "source": [
    "# Tratamiento de datos\n",
    "import numpy as np\n",
    "import pandas as pd\n",
    "\n",
    "\n",
    "# Gráficos\n",
    "import matplotlib.pyplot as plt\n",
    "from matplotlib import style\n",
    "import matplotlib.ticker as ticker\n",
    "import seaborn as sns\n",
    "\n",
    "# Preprocesado y modelado\n",
    "plt.rcParams[\"figure.figsize\"] = (10,8)"
   ]
  },
  {
   "cell_type": "code",
   "execution_count": null,
   "metadata": {},
   "outputs": [],
   "source": [
    "# Configuración warnings\n",
    "import warnings\n",
    "warnings.filterwarnings('ignore')"
   ]
  },
  {
   "cell_type": "markdown",
   "metadata": {},
   "source": [
    "Cargamos los datos sin el preprocesado. Eso si, está limpia la columna de `gender`, `state` que estaba un poco sucia. "
   ]
  },
  {
   "cell_type": "code",
   "execution_count": null,
   "metadata": {},
   "outputs": [],
   "source": [
    "df = pd.read_csv(\"data/insurance.csv\")\n",
    "df.head()"
   ]
  },
  {
   "attachments": {},
   "cell_type": "markdown",
   "metadata": {},
   "source": [
    "- variables continuas:\n",
    "  - `charges`\n",
    "  - `bmi`\n",
    "  - `age`\n",
    "- variables discretas:\n",
    "  - `sex`\n",
    "  - `children`\n",
    "  - `region`\n"
   ]
  },
  {
   "cell_type": "code",
   "execution_count": null,
   "metadata": {},
   "outputs": [],
   "source": [
    "df.head()"
   ]
  },
  {
   "attachments": {},
   "cell_type": "markdown",
   "metadata": {},
   "source": [
    "hay que identificar la variable respuesta -- la que se va a intentar predecir. en este caso, será `median_home_val`."
   ]
  },
  {
   "cell_type": "markdown",
   "metadata": {},
   "source": [
    "# Análisis exploratorio"
   ]
  },
  {
   "cell_type": "markdown",
   "metadata": {},
   "source": [
    "Antes de entrenar un modelo predictivo, o incluso antes de realizar cualquier cálculo con un nuevo conjunto de datos, es muy importante realizar una exploración descriptiva de los mismos. Este proceso permite entender mejor qué información contiene cada variable, así como detectar posibles errores. Algunos ejemplos frecuentes son:\n",
    "\n",
    "Que una columna se haya almacenado con el tipo incorrecto: una variable numérica está siendo reconocida como texto o viceversa.\n",
    "\n",
    "Que una variable contenga valores que no tienen sentido: por ejemplo, para indicar que no se dispone del precio de una vivienda se introduce el valor 0 o un espacio en blanco.\n",
    "\n",
    "Que en una variable de tipo numérico se haya introducido una palabra en lugar de un número.\n",
    "\n",
    "Además, este análisis inicial puede dar pistas sobre qué variables son adecuadas como predictores en un modelo (más sobre esto en los siguientes apartados)."
   ]
  },
  {
   "attachments": {},
   "cell_type": "markdown",
   "metadata": {},
   "source": [
    "1. ver que tengo en el df y los tipos"
   ]
  },
  {
   "cell_type": "code",
   "execution_count": null,
   "metadata": {},
   "outputs": [],
   "source": [
    "df.info()"
   ]
  },
  {
   "attachments": {},
   "cell_type": "markdown",
   "metadata": {},
   "source": [
    "2. ver el número de nulos que tengo en el dataset y ver que puedo hacer con ello\n",
    "\n",
    "una columna es quitable en cuanto a úmero de nulos será el 60%-70% de valores nulos"
   ]
  },
  {
   "cell_type": "code",
   "execution_count": null,
   "metadata": {},
   "outputs": [],
   "source": [
    "# Número de datos nulos por columna\n",
    "# ==============================================================================\n",
    "df.isnull().sum() / df.shape[0]"
   ]
  },
  {
   "attachments": {},
   "cell_type": "markdown",
   "metadata": {},
   "source": [
    "3. check duplicados -- si hay filas duplicadas, te las zumbas"
   ]
  },
  {
   "cell_type": "code",
   "execution_count": null,
   "metadata": {},
   "outputs": [],
   "source": [
    "df.duplicated().sum() / df.shape[0]"
   ]
  },
  {
   "attachments": {},
   "cell_type": "markdown",
   "metadata": {},
   "source": [
    "4. check los tipos de datos"
   ]
  },
  {
   "cell_type": "code",
   "execution_count": null,
   "metadata": {},
   "outputs": [],
   "source": [
    "df.describe().T"
   ]
  },
  {
   "cell_type": "code",
   "execution_count": null,
   "metadata": {},
   "outputs": [],
   "source": [
    "sns.pairplot(data=df);"
   ]
  },
  {
   "attachments": {},
   "cell_type": "markdown",
   "metadata": {},
   "source": [
    "## Variable respuesta\n",
    "\n",
    "la variable respuesta en este caso será `charges`."
   ]
  },
  {
   "cell_type": "code",
   "execution_count": null,
   "metadata": {},
   "outputs": [],
   "source": [
    "# vamos a ver visualmente como está distribuida la variable respuesta\n",
    "\n",
    "##esto es un resumen un histograma\n",
    "\n",
    "sns.kdeplot(\n",
    "    df.charges, \n",
    "    color = \"blue\", \n",
    "    fill = True);"
   ]
  },
  {
   "cell_type": "code",
   "execution_count": null,
   "metadata": {},
   "outputs": [],
   "source": [
    "# cuantas casas tienen de media el valor que indica el eje x\n",
    "sns.histplot(data = df, x = 'charges', kde = True);"
   ]
  },
  {
   "attachments": {},
   "cell_type": "markdown",
   "metadata": {},
   "source": [
    "no es una normal porque no es simétrica -- tiene un sesgo hacia la izquierda."
   ]
  },
  {
   "attachments": {},
   "cell_type": "markdown",
   "metadata": {},
   "source": [
    "otra de las soluciones posibles, sin transformar la gráfica sería dividir el conjunto de datos y quitarnos la parte de la derecha, ya que es la parte que no es simétrica de la dsitribución"
   ]
  },
  {
   "cell_type": "code",
   "execution_count": null,
   "metadata": {},
   "outputs": [],
   "source": [
    "df.describe(include=np.number).T"
   ]
  },
  {
   "cell_type": "markdown",
   "metadata": {},
   "source": [
    "## Variables predictoras"
   ]
  },
  {
   "cell_type": "markdown",
   "metadata": {},
   "source": [
    "Al igual que con la variable respuesta debemos conocer como son nuestras variables predictoras, como se relacionan entre ellas y como lo hacen con la variable respuesta.\n",
    "\n",
    "Vamos a ello: "
   ]
  },
  {
   "cell_type": "markdown",
   "metadata": {},
   "source": [
    "### Variables numéricas\n"
   ]
  },
  {
   "cell_type": "code",
   "execution_count": null,
   "metadata": {},
   "outputs": [],
   "source": [
    "# exploramos cuáles son los principales estadísticos de las variables numéricas\n",
    "\n",
    "df_numericas = df.select_dtypes(include = np.number).describe()\n",
    "df_numericas"
   ]
  },
  {
   "cell_type": "code",
   "execution_count": null,
   "metadata": {},
   "outputs": [],
   "source": [
    "fig, axes = plt.subplots(nrows=2, ncols=3, figsize = (30,10))\n",
    "axes = axes.flat\n",
    "columnas = df_numericas.drop(['median_home_val'], axis = 1)  \n",
    "for i, columns in enumerate(columnas.columns):\n",
    "    sns.regplot(data = df, x = columns, y = 'median_home_val', ax = axes[i])\n",
    "fig.tight_layout()"
   ]
  },
  {
   "attachments": {},
   "cell_type": "markdown",
   "metadata": {},
   "source": [
    "por un lado, cada punto sería una fila \n",
    "\n",
    "por otro lado, la línea es una línea de tendencia y ves como los valores se añejan o se acercan de la media (el sombreado es el error)"
   ]
  },
  {
   "attachments": {},
   "cell_type": "markdown",
   "metadata": {},
   "source": [
    "relación positiva -- el incremento de las variables indica el incremento de la variable a estudiar.\n",
    "\n",
    "aka: más habitaciones, más precio.\n",
    "\n",
    "ojo: la distribución se compara solo con la variable respuestas. si se trata de una distribución uniforme, no variarían los valores -- no estarían relacionadas."
   ]
  },
  {
   "cell_type": "code",
   "execution_count": null,
   "metadata": {},
   "outputs": [],
   "source": [
    "# me voy a cargar el valor más grande\n",
    "df['dist_playa'].max()"
   ]
  },
  {
   "cell_type": "code",
   "execution_count": null,
   "metadata": {},
   "outputs": [],
   "source": [
    "df = df[df['dist_playa'] < df['dist_playa'].max()]"
   ]
  },
  {
   "cell_type": "code",
   "execution_count": null,
   "metadata": {},
   "outputs": [],
   "source": [
    "fig, axes = plt.subplots(nrows=2, ncols=3, figsize = (30,10))\n",
    "axes = axes.flat\n",
    "columnas = df_numericas.drop(['median_home_val'], axis = 1)  \n",
    "for i, columns in enumerate(columnas.columns):\n",
    "    sns.regplot(data = df, x = columns, y = 'median_home_val', ax = axes[i])\n",
    "fig.tight_layout()"
   ]
  },
  {
   "attachments": {},
   "cell_type": "markdown",
   "metadata": {},
   "source": [
    "sigue habiendo outliers -- pocas casas lejos de la playa me enturbian la muestra"
   ]
  },
  {
   "cell_type": "code",
   "execution_count": null,
   "metadata": {},
   "outputs": [],
   "source": [
    "# Gráfico de distribución para cada variable numérica\n",
    "# ==============================================================================\n",
    "\n",
    "fig, axes = plt.subplots(nrows = 2, ncols = 3, figsize = (30, 10))\n",
    "\n",
    "lista_colores = [\"blue\", \"green\", \"red\", \"cyan\", \"magenta\", \"orange\"]\n",
    "\n",
    "axes = axes.flat\n",
    "\n",
    "columnas_numeric = df.select_dtypes(include = np.number).columns\n",
    "columnas_numeric = columnas_numeric.drop(\"median_home_val\")\n",
    "\n",
    "for i, colum in enumerate(columnas_numeric): \n",
    "    sns.histplot(\n",
    "        data = df,\n",
    "        x = colum,\n",
    "        kde = True, \n",
    "        color = lista_colores[i], \n",
    "        line_kws = {\"linewidth\": 2}, \n",
    "        alpha = 0.2, \n",
    "        ax = axes[i])\n",
    "    \n",
    "    \n",
    "    axes[i].set_title(colum, fontsize = 15, fontweight = \"bold\")\n",
    "    axes[i].tick_params(labelsize = 20)\n",
    "    axes[i].set_xlabel(\"\")\n",
    "    \n",
    "\n",
    "fig.tight_layout();"
   ]
  },
  {
   "cell_type": "markdown",
   "metadata": {},
   "source": [
    "\n",
    "Como el objetivo del estudio es predecir el precio de las viviendas, el análisis de cada variable se hace también en relación a la variable respuesta precio. Analizando los datos de esta forma, se pueden empezar a extraer ideas sobre qué variables están más relacionadas con el precio y de qué forma."
   ]
  },
  {
   "cell_type": "code",
   "execution_count": null,
   "metadata": {},
   "outputs": [],
   "source": [
    "# Gráfico de relación entre variables predictoras y la variable a predecir\n",
    "# ==============================================================================\n",
    "\n",
    "\n",
    "fig, axes = plt.subplots(nrows = 2, ncols = 3, figsize = (30, 10))\n",
    "\n",
    "lista_colores = [\"blue\", \"green\", \"red\", \"cyan\", \"magenta\", \"orange\"]\n",
    "\n",
    "axes = axes.flat\n",
    "\n",
    "columnas_numeric = df.select_dtypes(include = np.number).columns\n",
    "columnas_numeric = columnas_numeric.drop(\"median_home_val\")\n",
    "\n",
    "for i, colum in enumerate(columnas_numeric):\n",
    "    sns.regplot(\n",
    "        x = df[colum], \n",
    "        y = df[\"median_home_val\"], \n",
    "        color = \"gray\", \n",
    "        marker = \".\", \n",
    "        scatter_kws = {\"alpha\": 0.4}, \n",
    "        line_kws = {\"color\": \"red\", \"alpha\": 0.7 }, \n",
    "        ax = axes[i])\n",
    "    \n",
    "    axes[i].set_title(f\"Precio vs {colum}\", fontsize = 10, fontweight = \"bold\")\n",
    "    axes[i].tick_params(labelsize = 20)\n",
    "    axes[i].set_xlabel(\"\")\n",
    "    axes[i].set_ylabel(\"\")\n",
    "    \n",
    "fig.tight_layout();"
   ]
  },
  {
   "attachments": {},
   "cell_type": "markdown",
   "metadata": {},
   "source": [
    "### Correlación entre variables numéricas\n",
    "\n",
    "ojo: solo entre variables numéricas"
   ]
  },
  {
   "attachments": {},
   "cell_type": "markdown",
   "metadata": {},
   "source": [
    "correlación -- intensidad de la relación\n",
    "\n",
    "covarianza -- dirección de la relación"
   ]
  },
  {
   "cell_type": "code",
   "execution_count": null,
   "metadata": {},
   "outputs": [],
   "source": [
    "sns.heatmap(df.corr(), \n",
    "           cmap = \"mako\", \n",
    "           annot = True);"
   ]
  },
  {
   "cell_type": "code",
   "execution_count": null,
   "metadata": {},
   "outputs": [],
   "source": [
    "# creamos un dataframe todo de unos de la misma forma que nuestra matriz de correlación\n",
    "## creamos una matriz triangular\n",
    "\n",
    "mask = np.triu(np.ones_like(df.corr(), dtype = np.bool))\n",
    "mask\n"
   ]
  },
  {
   "cell_type": "code",
   "execution_count": null,
   "metadata": {},
   "outputs": [],
   "source": [
    "sns.heatmap(df.corr(), \n",
    "           cmap = \"YlGnBu\", \n",
    "            mask = mask,\n",
    "           annot = True,\n",
    "           vmin = -1,\n",
    "           vmax = 1\n",
    "           );\n",
    "## ojo, incluir los valores max y min para ver la escala total\n",
    "## para ver si hay correlación entre dos variables, hay que ver si los valores están en torno al 0.6 - 0.7"
   ]
  },
  {
   "attachments": {},
   "cell_type": "markdown",
   "metadata": {},
   "source": [
    "tienes que mirar también la relación entre las variables predictoras -- si son muy similares, no tiene sentido usar las mismas; ahora, si está justificado puedes mantenerla.\n",
    "\n",
    "sería interesante mantener:\n",
    "- total_habitaciones\n",
    "\n",
    "el resto de variables son muy correlacionadas entre sí"
   ]
  },
  {
   "attachments": {},
   "cell_type": "markdown",
   "metadata": {},
   "source": [
    "existen dos tipos de correlaciones:\n",
    "- pearson -- relación lineal\n",
    "- spearman -- relación no lineal --> no está tan clara la línea"
   ]
  },
  {
   "attachments": {
    "image%20%286%29.png": {
     "image/png": "[encoded data removed]"
    }
   },
   "cell_type": "markdown",
   "metadata": {},
   "source": [
    "El coeficiente de correlación de Pearson oscila entre –1 y +1:\n",
    "\n",
    "- Un valor menor que 0 indica que existe una correlación negativa, es decir, que las dos variables están asociadas en sentido inverso. Cuánto más se acerca a -1, mayor es la fuerza de esa relación invertida (cuando el valor en una sea muy alto, el valor en la otra será muy bajo). Cuando es exactamente -1, eso significa que tienen una correlación negativa perfecta.\n",
    "\n",
    "\n",
    "- Un valor mayor que 0 indica que existe una correlación positiva. En este caso las variables estarían asociadas en sentido directo. Cuanto más cerca de +1, más alta es su asociación. Un valor exacto de +1 indicaría una relación lineal positiva perfecta.\n",
    "\n",
    "\n",
    "- Finalmente, una correlación de 0, o próxima a 0, indica que no hay relación lineal entre las dos variables.\n",
    "\n",
    "Existe bastante consenso a la hora de interpretar los valores del coeficiente de correlación de Pearson utilizando los siguientes criterios (y considerando los valores absolutos):\n",
    "\n",
    "- Entre 0 y 0.10: correlación inexistente\n",
    "\n",
    "\n",
    "- Entre 0.10 y 0.29: correlación débil\n",
    "\n",
    "\n",
    "- Entre 0.30 y 0.60: correlación moderada\n",
    "\n",
    "\n",
    "- Entre 0.60 y 1: correlación fuerte\n",
    "\n",
    "\n",
    "**Otros tipos de correlación** \n",
    "\n",
    "![image%20%286%29.png](attachment:image%20%286%29.png)"
   ]
  },
  {
   "attachments": {},
   "cell_type": "markdown",
   "metadata": {},
   "source": [
    "para comprobar la relación entre todas las variables, usaremos el pairplot"
   ]
  },
  {
   "cell_type": "code",
   "execution_count": null,
   "metadata": {},
   "outputs": [],
   "source": [
    "sns.pairplot(data=df);"
   ]
  },
  {
   "cell_type": "markdown",
   "metadata": {},
   "source": [
    "### Variables categóricas"
   ]
  },
  {
   "cell_type": "code",
   "execution_count": null,
   "metadata": {},
   "outputs": [],
   "source": [
    "df_categoricas = df.select_dtypes(include='object')\n",
    "df_categoricas.head()"
   ]
  },
  {
   "cell_type": "code",
   "execution_count": null,
   "metadata": {},
   "outputs": [],
   "source": [
    "fig, axes = plt.subplots(nrows = 1, ncols = 2, figsize = (30, 10))\n",
    "\n",
    "axes = axes.flat\n",
    "\n",
    "for i, columna in enumerate(df_categoricas.columns):\n",
    "    sns.countplot(data = df, \n",
    "                  x = columna, \n",
    "                  ax = axes[i]);"
   ]
  },
  {
   "attachments": {},
   "cell_type": "markdown",
   "metadata": {},
   "source": [
    "vamos a sacar el precio medio por estados y ver como se distribuyen los precios:"
   ]
  },
  {
   "cell_type": "code",
   "execution_count": null,
   "metadata": {},
   "outputs": [],
   "source": [
    "df_relacion_cate = df.groupby('state')['median_home_val'].mean().reset_index()\n",
    "df_relacion_cate.head()"
   ]
  },
  {
   "cell_type": "code",
   "execution_count": null,
   "metadata": {},
   "outputs": [],
   "source": [
    "sns.barplot(data=df_relacion_cate, x = 'state', y = 'median_home_val');"
   ]
  },
  {
   "cell_type": "code",
   "execution_count": null,
   "metadata": {},
   "outputs": [],
   "source": [
    "df_relacion_cate_gen = df.groupby('gender')['median_home_val'].mean().reset_index()\n",
    "df_relacion_cate_gen.head()"
   ]
  },
  {
   "cell_type": "code",
   "execution_count": null,
   "metadata": {},
   "outputs": [],
   "source": [
    "sns.barplot(data=df_relacion_cate_gen, x = 'gender', y = 'median_home_val');"
   ]
  },
  {
   "attachments": {},
   "cell_type": "markdown",
   "metadata": {},
   "source": [
    "es una variable categórica sin orden -- no influye el género en el valor del precio"
   ]
  },
  {
   "attachments": {},
   "cell_type": "markdown",
   "metadata": {},
   "source": [
    "esta distribución servirá para el encoding -- vemos que haciendo una categorización entre el valor mayor, los valores intermedios y los valores más bajos"
   ]
  },
  {
   "cell_type": "code",
   "execution_count": null,
   "metadata": {},
   "outputs": [],
   "source": [
    "# Gráfico para cada variable cualitativa\n",
    "# ==============================================================================\n",
    "\n",
    "fig, axes = plt.subplots(1, 2, figsize = (9,5))\n",
    "\n",
    "axes = axes.flat\n",
    "\n",
    "columnas_object = df.select_dtypes(include = \"object\").columns\n",
    "\n",
    "for i, colum in enumerate(columnas_object):\n",
    "    df[colum].value_counts().plot.barh(ax = axes[i])\n",
    "    axes[i].set_title(colum, fontsize = 12, fontweight = \"bold\")\n",
    "    axes[i].tick_params(labelsize = 10)\n",
    "    axes[i].set_xlabel(\"\")\n",
    "    \n",
    "fig.tight_layout();\n"
   ]
  },
  {
   "cell_type": "markdown",
   "metadata": {},
   "source": [
    "# Preprocesado"
   ]
  },
  {
   "cell_type": "markdown",
   "metadata": {},
   "source": [
    "Aquí incluimos: \n",
    "\n",
    "- Gestión de **outliers**\n",
    "\n",
    "\n",
    "- Gestión de **nulos**\n",
    "\n",
    "\n",
    "- **Codificación** variables categóricas\n",
    "\n",
    "\n",
    "- **Normalización** y **Estandarización**"
   ]
  },
  {
   "cell_type": "code",
   "execution_count": null,
   "metadata": {},
   "outputs": [],
   "source": []
  }
 ],
 "metadata": {
  "kernelspec": {
   "display_name": "iron",
   "language": "python",
   "name": "python3"
  },
  "language_info": {
   "codemirror_mode": {
    "name": "ipython",
    "version": 3
   },
   "file_extension": ".py",
   "mimetype": "text/x-python",
   "name": "python",
   "nbconvert_exporter": "python",
   "pygments_lexer": "ipython3",
   "version": "3.9.13"
  },
  "toc": {
   "base_numbering": 1,
   "nav_menu": {},
   "number_sections": true,
   "sideBar": true,
   "skip_h1_title": false,
   "title_cell": "Table of Contents",
   "title_sidebar": "Contents",
   "toc_cell": true,
   "toc_position": {
    "height": "calc(100% - 180px)",
    "left": "10px",
    "top": "150px",
    "width": "192px"
   },
   "toc_section_display": true,
   "toc_window_display": false
  },
  "vscode": {
   "interpreter": {
    "hash": "e59d0b279e6461be5b4ea7b62838527cd8f41f3cbc9a1147b1a83b32d75ab689"
   }
  }
 },
 "nbformat": 4,
 "nbformat_minor": 2
}
